{
 "cells": [
  {
   "cell_type": "code",
   "execution_count": 71,
   "metadata": {},
   "outputs": [],
   "source": [
    "import numpy as np\n",
    "import matplotlib.pyplot as plt\n"
   ]
  },
  {
   "cell_type": "code",
   "execution_count": 72,
   "metadata": {},
   "outputs": [],
   "source": [
    "#Size A Plate\n",
    "s_A = 1 #m\n",
    "\n",
    "#interval x,y in plate\n",
    "dx = dy = 0.2          #size blok A                  \n",
    "nx = int(s_A/dx)\n",
    "ny = int(s_A/dy)\n",
    "x  = np.linspace(0,s_A,nx)\n",
    "y  = np.linspace(0,s_A,ny)\n",
    "n = s_A/dx\n",
    "\n",
    "#material properties\n",
    "dens = 2700 #kg/m^3       Density\n",
    "sp_heat = 500 #J/         kgK Specific heat\n",
    "th_con = 10 #W/mK         Thermal conductivity\n",
    "\n",
    "#time grid\n",
    "t_sim = 100                #s TIME \n",
    "dt =  0.5                 #s Time step\n",
    "nt  = int(t_sim/dt)       #Number of time step\n",
    "\n",
    "#Intial Condition\n",
    "T_a = 10             #temperature of the red plate\n",
    "T_b = 100            #temperature of the blue plate\n",
    "\n",
    "#define result parameter\n",
    "t0 = T_a * np.ones((nx, ny))\n",
    "u = np.empty((nx, ny))"
   ]
  },
  {
   "cell_type": "code",
   "execution_count": 73,
   "metadata": {},
   "outputs": [],
   "source": [
    "#SIMULATION\n",
    "\n",
    "#Intitial condition of the blue plate\n",
    "ds = 0.2              #size blok B \n",
    "cs, ys = 0.4, 0.4     #distance from the border\n",
    "\n",
    "ds2 = ds**2\n",
    "for i in range(nx):  #calculate heat in blue plate\n",
    "    for j in range(ny):\n",
    "        p2 = (i*dx-cs)**2 + (j*dy-ys)**2\n",
    "        if p2 < ds2:\n",
    "            t0[i,j]= T_b\n",
    "    \n",
    "def do_timestep(t0, u):\n",
    "    # Propagate with forward-difference in time, central-difference in space\n",
    "    u[1:-1, 1:-1] = t0[1:-1, 1:-1] + dt * th_con/(dens*sp_heat) * (\n",
    "          (t0[2:, 1:-1] - 2*t0[1:-1, 1:-1] + t0[:-2, 1:-1])/dx**2\n",
    "          + (t0[1:-1, 2:] - 2*t0[1:-1, 1:-1] + t0[1:-1, :-2])/dy**2 )\n",
    "\n",
    "    t0 = u.copy()\n",
    "    return t0, u\n",
    "    \n"
   ]
  },
  {
   "cell_type": "code",
   "execution_count": 74,
   "metadata": {},
   "outputs": [
    {
     "name": "stdout",
     "output_type": "stream",
     "text": [
      "0 1\n",
      "10 2\n",
      "50 3\n",
      "100 4\n"
     ]
    },
    {
     "data": {
      "image/png": "[encoded data removed]",
      "text/plain": [
       "<Figure size 432x288 with 4 Axes>"
      ]
     },
     "metadata": {
      "needs_background": "light"
     },
     "output_type": "display_data"
    }
   ],
   "source": [
    "# Output 4 figures at these timesteps\n",
    "\n",
    "mfig = [0, 10, 50, 100]\n",
    "fignum = 0\n",
    "fig = plt.figure()\n",
    "for m in range(nt):\n",
    "    t0, u = do_timestep(t0, u)\n",
    "    if m in mfig:\n",
    "        fignum += 1\n",
    "        print(m, fignum)\n",
    "        ax = fig.add_subplot(220 + fignum)\n",
    "        im = ax.imshow(u.copy(), cmap=plt.get_cmap('hot'), vmin=T_a,vmax=T_b)\n",
    "        ax.set_axis_off()\n",
    "        ax.set_title('{:.1f} ms'.format(m*dt*1000))\n",
    "fig.subplots_adjust(right=0.85)\n",
    "plt.show()"
   ]
  },
  {
   "cell_type": "code",
   "execution_count": null,
   "metadata": {},
   "outputs": [],
   "source": []
  }
 ],
 "metadata": {
  "kernelspec": {
   "display_name": "Python 3",
   "language": "python",
   "name": "python3"
  },
  "language_info": {
   "codemirror_mode": {
    "name": "ipython",
    "version": 3
   },
   "file_extension": ".py",
   "mimetype": "text/x-python",
   "name": "python",
   "nbconvert_exporter": "python",
   "pygments_lexer": "ipython3",
   "version": "3.7.1"
  }
 },
 "nbformat": 4,
 "nbformat_minor": 2
}
